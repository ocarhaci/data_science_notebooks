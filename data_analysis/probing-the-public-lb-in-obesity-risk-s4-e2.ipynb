{
 "cells": [
  {
   "cell_type": "markdown",
   "id": "8194f1b2",
   "metadata": {
    "papermill": {
     "duration": 0.003409,
     "end_time": "2024-02-21T16:37:30.387167",
     "exception": false,
     "start_time": "2024-02-21T16:37:30.383758",
     "status": "completed"
    },
    "tags": []
   },
   "source": [
    "<div style=\"background-color: #e6e6fa; padding: 10px;\">\n",
    "    <h1>Introduction</h1>\n",
    "</div>"
   ]
  },
  {
   "cell_type": "markdown",
   "id": "32bdae86",
   "metadata": {
    "_cell_guid": "b1076dfc-b9ad-4769-8c92-a6c4dae69d19",
    "_uuid": "8f2839f25d086af736a60e9eeb907d3b93b6e0e5",
    "papermill": {
     "duration": 0.002912,
     "end_time": "2024-02-21T16:37:30.393233",
     "exception": false,
     "start_time": "2024-02-21T16:37:30.390321",
     "status": "completed"
    },
    "tags": []
   },
   "source": [
    "\n",
    "<div style=\"display: flex; justify-content: space-between; align-items: flex-start;\">\n",
    "    <div style=\"padding: 10px; width: 60%;\">\n",
    "        <p>\n",
    "        In this Jupyter notebook, we explore a scenario similar to what we might encounter in a Kaggle classification competition. Imagine we have a test set with 13,840 samples. Out of these, 2,768 are used to calculate scores for the public leaderboard, just like in the \"Multi-Class Prediction of Obesity Risk Playground Series - S4,E2.\" In this competition, each correct prediction increases our score by a tiny amount, 0.00036. You can see this by looking at how scores change on the leaderboard.\n",
    "\n",
    "Understanding which test samples affect the public leaderboard (public LB) and which ones are for the private leaderboard (private LB) can give us an advantage. This is because knowing more about the data can help us do better in the competition. We can check if the public and private LBs are different and if this might change the rankings. We might even use this extra information to improve our models or how we check our work. We plan to use our 5 daily submission opportunities to gather this information.\n",
    "        </p>\n",
    "    </div>\n",
    "    <div style=\"padding: 10px; width: 60%; text-align: right;\">\n",
    "        <img src=\"https://github.com/ocarhaci/images/blob/main/hacker.jpg?raw=true\" alt=\"Inflation trends\" style=\"width: 100%; height: auto;\">\n",
    "    </div>\n",
    "</div>\n",
    "\n",
    "<div style=\"display: flex; justify-content: space-between; align-items: flex-start;\">\n",
    "    <div style=\"padding: 10px; width: 100%;\">\n",
    "        <p>\n",
    "        We start by making a prediction we know is wrong for all samples, like predicting all 'underweight' as 'obese 3'. This gives us the lowest possible score. Then, we use a model that we know is about 90% correct but only apply it to half of the test set (Group A). The other half (Group B) gets the wrong predictions. This way, we divide the test set into two groups: A and B.\n",
    "\n",
    "If our submission scores more than what we expect from half of the correct predictions (calculated as ((2,768 / 2) * 0.9) * 0.00036), it means Group A has more public samples. If not, Group B does. We give a (+1) score to each sample in the group with more public samples. In the end, we choose the samples with higher scores, hoping to focus on a subset of the test set that might give us a better chance to improve our public leaderboard position.\n",
    "\n",
    "To show how this works, we include a simulation in this notebook. For simplicity, we use 1 instead of 0.00036 for each correct prediction. This means we're looking for a score higher than ((2,768 / 2) * 0.9) in our simulation. This example helps demonstrate how strategic thinking can be applied in data competitions.        \n",
    "        </p>\n",
    "    </div>\n",
    "</div>"
   ]
  },
  {
   "cell_type": "code",
   "execution_count": 1,
   "id": "55bfbe8a",
   "metadata": {
    "execution": {
     "iopub.execute_input": "2024-02-21T16:37:30.401206Z",
     "iopub.status.busy": "2024-02-21T16:37:30.400534Z",
     "iopub.status.idle": "2024-02-21T16:37:31.534133Z",
     "shell.execute_reply": "2024-02-21T16:37:31.532858Z"
    },
    "papermill": {
     "duration": 1.140858,
     "end_time": "2024-02-21T16:37:31.537027",
     "exception": false,
     "start_time": "2024-02-21T16:37:30.396169",
     "status": "completed"
    },
    "tags": []
   },
   "outputs": [],
   "source": [
    "import pandas as pd\n",
    "import numpy as np\n",
    "\n",
    "# Set the seed for reproducibility\n",
    "np.random.seed(0)\n",
    "\n",
    "# Create a DataFrame with 13840 rows\n",
    "size = 13840\n",
    "num_ones = 2768\n",
    "\n",
    "# Generate a list with 2768 ones and the rest zeros\n",
    "data = np.zeros(size)\n",
    "data[:num_ones] = 1\n",
    "\n",
    "# Shuffle the data to randomly distribute the ones\n",
    "np.random.shuffle(data)\n",
    "\n",
    "# Create the DataFrame\n",
    "df = pd.DataFrame(data, columns=['public'])\n",
    "df['public'] = df['public'].astype('int8')"
   ]
  },
  {
   "cell_type": "code",
   "execution_count": 2,
   "id": "e4543fd0",
   "metadata": {
    "execution": {
     "iopub.execute_input": "2024-02-21T16:37:31.545883Z",
     "iopub.status.busy": "2024-02-21T16:37:31.545189Z",
     "iopub.status.idle": "2024-02-21T16:37:32.464224Z",
     "shell.execute_reply": "2024-02-21T16:37:32.462883Z"
    },
    "papermill": {
     "duration": 0.926816,
     "end_time": "2024-02-21T16:37:32.467043",
     "exception": false,
     "start_time": "2024-02-21T16:37:31.540227",
     "status": "completed"
    },
    "tags": []
   },
   "outputs": [],
   "source": [
    "df2 = df.copy(deep=True)\n",
    "df['score'] = 0\n",
    "for y in range(150):\n",
    "    next_it_df = df2\n",
    "    half_df = next_it_df.sample(frac=0.5, random_state=y+150)\n",
    "    if ((sum(half_df.public)*0.9) > (sum(next_it_df.public)*0.9)/2):\n",
    "        next_it_df = half_df\n",
    "    else:\n",
    "        indices_not_in_half_df = next_it_df.index.difference(half_df.index)\n",
    "        next_it_df = next_it_df.loc[indices_not_in_half_df]\n",
    "    df.loc[df.index.isin(next_it_df.index), 'score'] += 1"
   ]
  },
  {
   "cell_type": "code",
   "execution_count": 3,
   "id": "8c8d0a70",
   "metadata": {
    "execution": {
     "iopub.execute_input": "2024-02-21T16:37:32.477126Z",
     "iopub.status.busy": "2024-02-21T16:37:32.476049Z",
     "iopub.status.idle": "2024-02-21T16:37:32.495255Z",
     "shell.execute_reply": "2024-02-21T16:37:32.494135Z"
    },
    "papermill": {
     "duration": 0.027654,
     "end_time": "2024-02-21T16:37:32.497931",
     "exception": false,
     "start_time": "2024-02-21T16:37:32.470277",
     "status": "completed"
    },
    "tags": []
   },
   "outputs": [],
   "source": [
    "grouped_df = df.groupby('score').sum()\n",
    "grouped_df2 = df.groupby('score').count()\n",
    "grouped_df['count'] = grouped_df2['public']\n",
    "grouped_df_cumulative = grouped_df.iloc[::-1].cumsum().iloc[::-1]\n",
    "grouped_df_cumulative['ratio'] = grouped_df_cumulative['public'] / grouped_df_cumulative['count']"
   ]
  },
  {
   "cell_type": "code",
   "execution_count": 4,
   "id": "54b7d442",
   "metadata": {
    "execution": {
     "iopub.execute_input": "2024-02-21T16:37:32.505987Z",
     "iopub.status.busy": "2024-02-21T16:37:32.505536Z",
     "iopub.status.idle": "2024-02-21T16:37:32.818845Z",
     "shell.execute_reply": "2024-02-21T16:37:32.817586Z"
    },
    "papermill": {
     "duration": 0.320121,
     "end_time": "2024-02-21T16:37:32.821185",
     "exception": false,
     "start_time": "2024-02-21T16:37:32.501064",
     "status": "completed"
    },
    "tags": []
   },
   "outputs": [
    {
     "data": {
      "image/png": "[encoded data removed]",
      "text/plain": [
       "<Figure size 1000x600 with 1 Axes>"
      ]
     },
     "metadata": {},
     "output_type": "display_data"
    }
   ],
   "source": [
    "import matplotlib.pyplot as plt\n",
    "\n",
    "# Plotting\n",
    "plt.figure(figsize=(10, 6))\n",
    "plt.plot(grouped_df_cumulative['count'], grouped_df_cumulative['ratio'], marker='o', linestyle='-')\n",
    "plt.xlabel('Count')  # Assuming 'count' is a column you want on the x-axis\n",
    "plt.ylabel('ratio')\n",
    "plt.title('ratio vs. Count')\n",
    "plt.grid(True)\n",
    "plt.show()"
   ]
  },
  {
   "cell_type": "code",
   "execution_count": 5,
   "id": "953e417c",
   "metadata": {
    "execution": {
     "iopub.execute_input": "2024-02-21T16:37:32.830918Z",
     "iopub.status.busy": "2024-02-21T16:37:32.830447Z",
     "iopub.status.idle": "2024-02-21T16:37:32.848253Z",
     "shell.execute_reply": "2024-02-21T16:37:32.846856Z"
    },
    "papermill": {
     "duration": 0.025612,
     "end_time": "2024-02-21T16:37:32.850901",
     "exception": false,
     "start_time": "2024-02-21T16:37:32.825289",
     "status": "completed"
    },
    "tags": []
   },
   "outputs": [
    {
     "data": {
      "text/html": [
       "<div>\n",
       "<style scoped>\n",
       "    .dataframe tbody tr th:only-of-type {\n",
       "        vertical-align: middle;\n",
       "    }\n",
       "\n",
       "    .dataframe tbody tr th {\n",
       "        vertical-align: top;\n",
       "    }\n",
       "\n",
       "    .dataframe thead th {\n",
       "        text-align: right;\n",
       "    }\n",
       "</style>\n",
       "<table border=\"1\" class=\"dataframe\">\n",
       "  <thead>\n",
       "    <tr style=\"text-align: right;\">\n",
       "      <th></th>\n",
       "      <th>public</th>\n",
       "      <th>count</th>\n",
       "      <th>ratio</th>\n",
       "    </tr>\n",
       "    <tr>\n",
       "      <th>score</th>\n",
       "      <th></th>\n",
       "      <th></th>\n",
       "      <th></th>\n",
       "    </tr>\n",
       "  </thead>\n",
       "  <tbody>\n",
       "    <tr>\n",
       "      <th>83</th>\n",
       "      <td>414</td>\n",
       "      <td>1552</td>\n",
       "      <td>0.266753</td>\n",
       "    </tr>\n",
       "    <tr>\n",
       "      <th>84</th>\n",
       "      <td>330</td>\n",
       "      <td>1157</td>\n",
       "      <td>0.285220</td>\n",
       "    </tr>\n",
       "    <tr>\n",
       "      <th>85</th>\n",
       "      <td>249</td>\n",
       "      <td>847</td>\n",
       "      <td>0.293979</td>\n",
       "    </tr>\n",
       "    <tr>\n",
       "      <th>86</th>\n",
       "      <td>172</td>\n",
       "      <td>587</td>\n",
       "      <td>0.293015</td>\n",
       "    </tr>\n",
       "    <tr>\n",
       "      <th>87</th>\n",
       "      <td>125</td>\n",
       "      <td>420</td>\n",
       "      <td>0.297619</td>\n",
       "    </tr>\n",
       "    <tr>\n",
       "      <th>88</th>\n",
       "      <td>85</td>\n",
       "      <td>293</td>\n",
       "      <td>0.290102</td>\n",
       "    </tr>\n",
       "    <tr>\n",
       "      <th>89</th>\n",
       "      <td>55</td>\n",
       "      <td>179</td>\n",
       "      <td>0.307263</td>\n",
       "    </tr>\n",
       "    <tr>\n",
       "      <th>90</th>\n",
       "      <td>32</td>\n",
       "      <td>104</td>\n",
       "      <td>0.307692</td>\n",
       "    </tr>\n",
       "    <tr>\n",
       "      <th>91</th>\n",
       "      <td>23</td>\n",
       "      <td>73</td>\n",
       "      <td>0.315068</td>\n",
       "    </tr>\n",
       "    <tr>\n",
       "      <th>92</th>\n",
       "      <td>16</td>\n",
       "      <td>47</td>\n",
       "      <td>0.340426</td>\n",
       "    </tr>\n",
       "    <tr>\n",
       "      <th>93</th>\n",
       "      <td>14</td>\n",
       "      <td>30</td>\n",
       "      <td>0.466667</td>\n",
       "    </tr>\n",
       "    <tr>\n",
       "      <th>94</th>\n",
       "      <td>9</td>\n",
       "      <td>17</td>\n",
       "      <td>0.529412</td>\n",
       "    </tr>\n",
       "    <tr>\n",
       "      <th>95</th>\n",
       "      <td>2</td>\n",
       "      <td>6</td>\n",
       "      <td>0.333333</td>\n",
       "    </tr>\n",
       "    <tr>\n",
       "      <th>96</th>\n",
       "      <td>2</td>\n",
       "      <td>3</td>\n",
       "      <td>0.666667</td>\n",
       "    </tr>\n",
       "    <tr>\n",
       "      <th>97</th>\n",
       "      <td>2</td>\n",
       "      <td>2</td>\n",
       "      <td>1.000000</td>\n",
       "    </tr>\n",
       "  </tbody>\n",
       "</table>\n",
       "</div>"
      ],
      "text/plain": [
       "       public  count     ratio\n",
       "score                         \n",
       "83        414   1552  0.266753\n",
       "84        330   1157  0.285220\n",
       "85        249    847  0.293979\n",
       "86        172    587  0.293015\n",
       "87        125    420  0.297619\n",
       "88         85    293  0.290102\n",
       "89         55    179  0.307263\n",
       "90         32    104  0.307692\n",
       "91         23     73  0.315068\n",
       "92         16     47  0.340426\n",
       "93         14     30  0.466667\n",
       "94          9     17  0.529412\n",
       "95          2      6  0.333333\n",
       "96          2      3  0.666667\n",
       "97          2      2  1.000000"
      ]
     },
     "execution_count": 5,
     "metadata": {},
     "output_type": "execute_result"
    }
   ],
   "source": [
    "grouped_df_cumulative.tail(15)"
   ]
  },
  {
   "cell_type": "markdown",
   "id": "c9961785",
   "metadata": {
    "papermill": {
     "duration": 0.003789,
     "end_time": "2024-02-21T16:37:32.858970",
     "exception": false,
     "start_time": "2024-02-21T16:37:32.855181",
     "status": "completed"
    },
    "tags": []
   },
   "source": [
    "<div style=\"background-color: #e6e6fa; padding: 10px;\">\n",
    "    <h1>Analysis</h1>\n",
    "</div>"
   ]
  },
  {
   "cell_type": "markdown",
   "id": "9ed6386a",
   "metadata": {
    "papermill": {
     "duration": 0.003943,
     "end_time": "2024-02-21T16:37:32.867121",
     "exception": false,
     "start_time": "2024-02-21T16:37:32.863178",
     "status": "completed"
    },
    "tags": []
   },
   "source": [
    "In our exploration, we designed our approach to align closely with the format of the \"Multi-Class Prediction of Obesity Risk Playground Series - S4,E2\" competition. This event allows participants 30 days of competition with the opportunity for 5 submissions each day, totaling 150 submissions. If we had more submissions, that could have led us to even better results.\n",
    "\n",
    "The analysis provided in the accompanying plot reveals a significant finding: by prioritizing the top 1,000 indices based on performance, we can enhance the public/total testset ratio from 20% to 30%. It's important to recognize that the strategy outlined in this notebook is foundational. There's ample room for refinement and optimization.\n",
    "\n",
    "For instance, rather than utilizing all 150 submissions in a straightforward manner, a more nuanced approach could involve an initial 30 submissions to identify high-performing indices. Subsequent rounds could then focus exclusively on this refined subset of indices. Implementing this iterative refinement over 5 cycles aligns with the 150-submission limit, potentially yielding an even more favorable public/total testset ratio.\n",
    "\n",
    "This is just one example of how the initial methodology can be advanced. There exists a plethora of alternative strategies that could further enhance the efficacy of our approach, demonstrating the rich potential for innovation in leveraging submission feedback to inform strategic decision-making within the competition framework.\n",
    "\n",
    "In wrapping up, it's worth noting that despite outlining this approach, I didn't actually apply it in the competition. The reason? It demands a commitment to making 5 submissions every day, which can be quite exhausting. Nevertheless, I found the process of developing and analyzing this strategy to be intellectually stimulating and insightful. Sharing these findings with you has been a pleasure, and I hope they offer some value or inspiration for your own data science endeavors. Thank you for taking the time to read through this analysis."
   ]
  }
 ],
 "metadata": {
  "kaggle": {
   "accelerator": "none",
   "dataSources": [
    {
     "databundleVersionId": 7609535,
     "sourceId": 68479,
     "sourceType": "competition"
    }
   ],
   "dockerImageVersionId": 30646,
   "isGpuEnabled": false,
   "isInternetEnabled": true,
   "language": "python",
   "sourceType": "notebook"
  },
  "kernelspec": {
   "display_name": "Python 3",
   "language": "python",
   "name": "python3"
  },
  "language_info": {
   "codemirror_mode": {
    "name": "ipython",
    "version": 3
   },
   "file_extension": ".py",
   "mimetype": "text/x-python",
   "name": "python",
   "nbconvert_exporter": "python",
   "pygments_lexer": "ipython3",
   "version": "3.10.13"
  },
  "papermill": {
   "default_parameters": {},
   "duration": 6.197275,
   "end_time": "2024-02-21T16:37:33.393961",
   "environment_variables": {},
   "exception": null,
   "input_path": "__notebook__.ipynb",
   "output_path": "__notebook__.ipynb",
   "parameters": {},
   "start_time": "2024-02-21T16:37:27.196686",
   "version": "2.5.0"
  }
 },
 "nbformat": 4,
 "nbformat_minor": 5
}
