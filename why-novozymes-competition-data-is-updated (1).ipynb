{
 "cells": [
  {
   "cell_type": "markdown",
   "id": "bece4b62",
   "metadata": {
    "papermill": {
     "duration": 0.006461,
     "end_time": "2022-11-19T21:11:46.894304",
     "exception": false,
     "start_time": "2022-11-19T21:11:46.887843",
     "status": "completed"
    },
    "tags": []
   },
   "source": [
    "# About this notebook"
   ]
  },
  {
   "cell_type": "markdown",
   "id": "913e9c12",
   "metadata": {
    "papermill": {
     "duration": 0.004296,
     "end_time": "2022-11-19T21:11:46.903509",
     "exception": false,
     "start_time": "2022-11-19T21:11:46.899213",
     "status": "completed"
    },
    "tags": []
   },
   "source": [
    "This notebook analyzes the data update in the Novozymes Enzyme Stability Prediction competition. The data update was introduced with the following post:\n",
    "https://www.kaggle.com/competitions/novozymes-enzyme-stability-prediction/discussion/356251\n",
    "\n",
    "In this notebook, I focus on why such an update was needed. The reasoning provided in the post was that there were data quality issues in the replaced rows and some pH and tm values were transposed. So, was it really the case and how important is it? Let's dig in."
   ]
  },
  {
   "cell_type": "code",
   "execution_count": 1,
   "id": "253d0e92",
   "metadata": {
    "execution": {
     "iopub.execute_input": "2022-11-19T21:11:46.914762Z",
     "iopub.status.busy": "2022-11-19T21:11:46.914285Z",
     "iopub.status.idle": "2022-11-19T21:11:46.926798Z",
     "shell.execute_reply": "2022-11-19T21:11:46.925915Z"
    },
    "papermill": {
     "duration": 0.021553,
     "end_time": "2022-11-19T21:11:46.929656",
     "exception": false,
     "start_time": "2022-11-19T21:11:46.908103",
     "status": "completed"
    },
    "tags": []
   },
   "outputs": [
    {
     "name": "stdout",
     "output_type": "stream",
     "text": [
      "/kaggle/input/novozymes-enzyme-stability-prediction/sample_submission.csv\n",
      "/kaggle/input/novozymes-enzyme-stability-prediction/wildtype_structure_prediction_af2.pdb\n",
      "/kaggle/input/novozymes-enzyme-stability-prediction/train.csv\n",
      "/kaggle/input/novozymes-enzyme-stability-prediction/test.csv\n",
      "/kaggle/input/novozymes-enzyme-stability-prediction/train_updates_20220929.csv\n"
     ]
    }
   ],
   "source": [
    "# The usual imports\n",
    "import numpy as np # linear algebra\n",
    "import pandas as pd # data processing, CSV file I/O (e.g. pd.read_csv)\n",
    "from IPython.display import display\n",
    "\n",
    "import os\n",
    "for dirname, _, filenames in os.walk('/kaggle/input'):\n",
    "    for filename in filenames:\n",
    "        print(os.path.join(dirname, filename))"
   ]
  },
  {
   "cell_type": "code",
   "execution_count": 2,
   "id": "c2333459",
   "metadata": {
    "execution": {
     "iopub.execute_input": "2022-11-19T21:11:46.941276Z",
     "iopub.status.busy": "2022-11-19T21:11:46.940934Z",
     "iopub.status.idle": "2022-11-19T21:11:47.325277Z",
     "shell.execute_reply": "2022-11-19T21:11:47.324236Z"
    },
    "papermill": {
     "duration": 0.392708,
     "end_time": "2022-11-19T21:11:47.327939",
     "exception": false,
     "start_time": "2022-11-19T21:11:46.935231",
     "status": "completed"
    },
    "tags": []
   },
   "outputs": [],
   "source": [
    "train_file_path = '/kaggle/input/novozymes-enzyme-stability-prediction/train.csv'\n",
    "df = pd.read_csv(train_file_path)\n",
    "df = df.set_index('seq_id', drop=False)\n",
    "df_without_source = df[df.data_source.isnull( )]\n",
    "df_from_reliable_sources = df.dropna(subset=['data_source'])"
   ]
  },
  {
   "cell_type": "markdown",
   "id": "9d5e5e09",
   "metadata": {
    "papermill": {
     "duration": 0.004489,
     "end_time": "2022-11-19T21:11:47.337460",
     "exception": false,
     "start_time": "2022-11-19T21:11:47.332971",
     "status": "completed"
    },
    "tags": []
   },
   "source": [
    "## Getting familiar with data"
   ]
  },
  {
   "cell_type": "markdown",
   "id": "bf4b34d0",
   "metadata": {
    "papermill": {
     "duration": 0.004464,
     "end_time": "2022-11-19T21:11:47.346580",
     "exception": false,
     "start_time": "2022-11-19T21:11:47.342116",
     "status": "completed"
    },
    "tags": []
   },
   "source": [
    "The dataframe has 31390 rows. About 1/10th of it(3347) are no-source data as shown below."
   ]
  },
  {
   "cell_type": "code",
   "execution_count": 3,
   "id": "051285a3",
   "metadata": {
    "execution": {
     "iopub.execute_input": "2022-11-19T21:11:47.357796Z",
     "iopub.status.busy": "2022-11-19T21:11:47.357429Z",
     "iopub.status.idle": "2022-11-19T21:11:47.396932Z",
     "shell.execute_reply": "2022-11-19T21:11:47.395827Z"
    },
    "papermill": {
     "duration": 0.048016,
     "end_time": "2022-11-19T21:11:47.399297",
     "exception": false,
     "start_time": "2022-11-19T21:11:47.351281",
     "status": "completed"
    },
    "tags": []
   },
   "outputs": [
    {
     "name": "stdout",
     "output_type": "stream",
     "text": [
      "<class 'pandas.core.frame.DataFrame'>\n",
      "Int64Index: 31390 entries, 0 to 31389\n",
      "Data columns (total 5 columns):\n",
      " #   Column            Non-Null Count  Dtype  \n",
      "---  ------            --------------  -----  \n",
      " 0   seq_id            31390 non-null  int64  \n",
      " 1   protein_sequence  31390 non-null  object \n",
      " 2   pH                31104 non-null  float64\n",
      " 3   data_source       28043 non-null  object \n",
      " 4   tm                31390 non-null  float64\n",
      "dtypes: float64(2), int64(1), object(2)\n",
      "memory usage: 1.4+ MB\n"
     ]
    },
    {
     "data": {
      "text/plain": [
       "None"
      ]
     },
     "metadata": {},
     "output_type": "display_data"
    },
    {
     "name": "stdout",
     "output_type": "stream",
     "text": [
      "<class 'pandas.core.frame.DataFrame'>\n",
      "Int64Index: 3347 entries, 69 to 30742\n",
      "Data columns (total 5 columns):\n",
      " #   Column            Non-Null Count  Dtype  \n",
      "---  ------            --------------  -----  \n",
      " 0   seq_id            3347 non-null   int64  \n",
      " 1   protein_sequence  3347 non-null   object \n",
      " 2   pH                3335 non-null   float64\n",
      " 3   data_source       0 non-null      object \n",
      " 4   tm                3347 non-null   float64\n",
      "dtypes: float64(2), int64(1), object(2)\n",
      "memory usage: 156.9+ KB\n"
     ]
    },
    {
     "data": {
      "text/plain": [
       "None"
      ]
     },
     "metadata": {},
     "output_type": "display_data"
    }
   ],
   "source": [
    "display(df.info())\n",
    "display(df_without_source.info())"
   ]
  },
  {
   "cell_type": "markdown",
   "id": "78334b9e",
   "metadata": {
    "papermill": {
     "duration": 0.004899,
     "end_time": "2022-11-19T21:11:47.409382",
     "exception": false,
     "start_time": "2022-11-19T21:11:47.404483",
     "status": "completed"
    },
    "tags": []
   },
   "source": [
    "# Problems with no-source data"
   ]
  },
  {
   "cell_type": "markdown",
   "id": "d711e4e4",
   "metadata": {
    "papermill": {
     "duration": 0.004785,
     "end_time": "2022-11-19T21:11:47.419165",
     "exception": false,
     "start_time": "2022-11-19T21:11:47.414380",
     "status": "completed"
    },
    "tags": []
   },
   "source": [
    "Here I list the suspicies attributes of no-source data.\n",
    "\n",
    "## 1) It includes invalid pH values. \n",
    "No other sources have this type of error. Below, both df_without_source and df are listed with their highest pH values and number of their occurances. The numbers are the same for all invalid pH values, meaning that the invalid pH values are only coming from no-source data."
   ]
  },
  {
   "cell_type": "code",
   "execution_count": 4,
   "id": "864a2d86",
   "metadata": {
    "execution": {
     "iopub.execute_input": "2022-11-19T21:11:47.432758Z",
     "iopub.status.busy": "2022-11-19T21:11:47.432354Z",
     "iopub.status.idle": "2022-11-19T21:11:47.476221Z",
     "shell.execute_reply": "2022-11-19T21:11:47.474984Z"
    },
    "papermill": {
     "duration": 0.054444,
     "end_time": "2022-11-19T21:11:47.478647",
     "exception": false,
     "start_time": "2022-11-19T21:11:47.424203",
     "status": "completed"
    },
    "tags": []
   },
   "outputs": [
    {
     "data": {
      "text/html": [
       "<div>\n",
       "<style scoped>\n",
       "    .dataframe tbody tr th:only-of-type {\n",
       "        vertical-align: middle;\n",
       "    }\n",
       "\n",
       "    .dataframe tbody tr th {\n",
       "        vertical-align: top;\n",
       "    }\n",
       "\n",
       "    .dataframe thead th {\n",
       "        text-align: right;\n",
       "    }\n",
       "</style>\n",
       "<table border=\"1\" class=\"dataframe\">\n",
       "  <thead>\n",
       "    <tr style=\"text-align: right;\">\n",
       "      <th></th>\n",
       "      <th>seq_id</th>\n",
       "      <th>protein_sequence</th>\n",
       "      <th>data_source</th>\n",
       "      <th>tm</th>\n",
       "    </tr>\n",
       "    <tr>\n",
       "      <th>pH</th>\n",
       "      <th></th>\n",
       "      <th></th>\n",
       "      <th></th>\n",
       "      <th></th>\n",
       "    </tr>\n",
       "  </thead>\n",
       "  <tbody>\n",
       "    <tr>\n",
       "      <th>10.3</th>\n",
       "      <td>1</td>\n",
       "      <td>1</td>\n",
       "      <td>0</td>\n",
       "      <td>1</td>\n",
       "    </tr>\n",
       "    <tr>\n",
       "      <th>11.0</th>\n",
       "      <td>5</td>\n",
       "      <td>5</td>\n",
       "      <td>0</td>\n",
       "      <td>5</td>\n",
       "    </tr>\n",
       "    <tr>\n",
       "      <th>39.0</th>\n",
       "      <td>1</td>\n",
       "      <td>1</td>\n",
       "      <td>0</td>\n",
       "      <td>1</td>\n",
       "    </tr>\n",
       "    <tr>\n",
       "      <th>48.4</th>\n",
       "      <td>12</td>\n",
       "      <td>12</td>\n",
       "      <td>0</td>\n",
       "      <td>12</td>\n",
       "    </tr>\n",
       "    <tr>\n",
       "      <th>49.0</th>\n",
       "      <td>5</td>\n",
       "      <td>5</td>\n",
       "      <td>0</td>\n",
       "      <td>5</td>\n",
       "    </tr>\n",
       "    <tr>\n",
       "      <th>53.4</th>\n",
       "      <td>4</td>\n",
       "      <td>4</td>\n",
       "      <td>0</td>\n",
       "      <td>4</td>\n",
       "    </tr>\n",
       "    <tr>\n",
       "      <th>55.6</th>\n",
       "      <td>5</td>\n",
       "      <td>5</td>\n",
       "      <td>0</td>\n",
       "      <td>5</td>\n",
       "    </tr>\n",
       "    <tr>\n",
       "      <th>64.9</th>\n",
       "      <td>2</td>\n",
       "      <td>2</td>\n",
       "      <td>0</td>\n",
       "      <td>2</td>\n",
       "    </tr>\n",
       "  </tbody>\n",
       "</table>\n",
       "</div>"
      ],
      "text/plain": [
       "      seq_id  protein_sequence  data_source  tm\n",
       "pH                                             \n",
       "10.3       1                 1            0   1\n",
       "11.0       5                 5            0   5\n",
       "39.0       1                 1            0   1\n",
       "48.4      12                12            0  12\n",
       "49.0       5                 5            0   5\n",
       "53.4       4                 4            0   4\n",
       "55.6       5                 5            0   5\n",
       "64.9       2                 2            0   2"
      ]
     },
     "metadata": {},
     "output_type": "display_data"
    },
    {
     "data": {
      "text/html": [
       "<div>\n",
       "<style scoped>\n",
       "    .dataframe tbody tr th:only-of-type {\n",
       "        vertical-align: middle;\n",
       "    }\n",
       "\n",
       "    .dataframe tbody tr th {\n",
       "        vertical-align: top;\n",
       "    }\n",
       "\n",
       "    .dataframe thead th {\n",
       "        text-align: right;\n",
       "    }\n",
       "</style>\n",
       "<table border=\"1\" class=\"dataframe\">\n",
       "  <thead>\n",
       "    <tr style=\"text-align: right;\">\n",
       "      <th></th>\n",
       "      <th>seq_id</th>\n",
       "      <th>protein_sequence</th>\n",
       "      <th>data_source</th>\n",
       "      <th>tm</th>\n",
       "    </tr>\n",
       "    <tr>\n",
       "      <th>pH</th>\n",
       "      <th></th>\n",
       "      <th></th>\n",
       "      <th></th>\n",
       "      <th></th>\n",
       "    </tr>\n",
       "  </thead>\n",
       "  <tbody>\n",
       "    <tr>\n",
       "      <th>10.4</th>\n",
       "      <td>6</td>\n",
       "      <td>6</td>\n",
       "      <td>6</td>\n",
       "      <td>6</td>\n",
       "    </tr>\n",
       "    <tr>\n",
       "      <th>11.0</th>\n",
       "      <td>27</td>\n",
       "      <td>27</td>\n",
       "      <td>22</td>\n",
       "      <td>27</td>\n",
       "    </tr>\n",
       "    <tr>\n",
       "      <th>39.0</th>\n",
       "      <td>1</td>\n",
       "      <td>1</td>\n",
       "      <td>0</td>\n",
       "      <td>1</td>\n",
       "    </tr>\n",
       "    <tr>\n",
       "      <th>48.4</th>\n",
       "      <td>12</td>\n",
       "      <td>12</td>\n",
       "      <td>0</td>\n",
       "      <td>12</td>\n",
       "    </tr>\n",
       "    <tr>\n",
       "      <th>49.0</th>\n",
       "      <td>5</td>\n",
       "      <td>5</td>\n",
       "      <td>0</td>\n",
       "      <td>5</td>\n",
       "    </tr>\n",
       "    <tr>\n",
       "      <th>53.4</th>\n",
       "      <td>4</td>\n",
       "      <td>4</td>\n",
       "      <td>0</td>\n",
       "      <td>4</td>\n",
       "    </tr>\n",
       "    <tr>\n",
       "      <th>55.6</th>\n",
       "      <td>5</td>\n",
       "      <td>5</td>\n",
       "      <td>0</td>\n",
       "      <td>5</td>\n",
       "    </tr>\n",
       "    <tr>\n",
       "      <th>64.9</th>\n",
       "      <td>2</td>\n",
       "      <td>2</td>\n",
       "      <td>0</td>\n",
       "      <td>2</td>\n",
       "    </tr>\n",
       "  </tbody>\n",
       "</table>\n",
       "</div>"
      ],
      "text/plain": [
       "      seq_id  protein_sequence  data_source  tm\n",
       "pH                                             \n",
       "10.4       6                 6            6   6\n",
       "11.0      27                27           22  27\n",
       "39.0       1                 1            0   1\n",
       "48.4      12                12            0  12\n",
       "49.0       5                 5            0   5\n",
       "53.4       4                 4            0   4\n",
       "55.6       5                 5            0   5\n",
       "64.9       2                 2            0   2"
      ]
     },
     "metadata": {},
     "output_type": "display_data"
    }
   ],
   "source": [
    "display(df_without_source.groupby(['pH']).count().tail(8))\n",
    "display(df.groupby(['pH']).count().tail(8))"
   ]
  },
  {
   "cell_type": "markdown",
   "id": "882a7e1d",
   "metadata": {
    "papermill": {
     "duration": 0.005372,
     "end_time": "2022-11-19T21:11:47.489749",
     "exception": false,
     "start_time": "2022-11-19T21:11:47.484377",
     "status": "completed"
    },
    "tags": []
   },
   "source": [
    "## 2) No-source data has too many edge cases\n",
    "The previous example already showed high occurance of high pH values. Below another high occurance can be observed for low tm values. Although only 1/10 of the data is no-source data, most of low tm data are also no-source. This is too much for an unreliable source."
   ]
  },
  {
   "cell_type": "code",
   "execution_count": 5,
   "id": "42f38e96",
   "metadata": {
    "execution": {
     "iopub.execute_input": "2022-11-19T21:11:47.502539Z",
     "iopub.status.busy": "2022-11-19T21:11:47.502169Z",
     "iopub.status.idle": "2022-11-19T21:11:47.517575Z",
     "shell.execute_reply": "2022-11-19T21:11:47.516469Z"
    },
    "papermill": {
     "duration": 0.024692,
     "end_time": "2022-11-19T21:11:47.519938",
     "exception": false,
     "start_time": "2022-11-19T21:11:47.495246",
     "status": "completed"
    },
    "tags": []
   },
   "outputs": [
    {
     "data": {
      "text/html": [
       "<div>\n",
       "<style scoped>\n",
       "    .dataframe tbody tr th:only-of-type {\n",
       "        vertical-align: middle;\n",
       "    }\n",
       "\n",
       "    .dataframe tbody tr th {\n",
       "        vertical-align: top;\n",
       "    }\n",
       "\n",
       "    .dataframe thead th {\n",
       "        text-align: right;\n",
       "    }\n",
       "</style>\n",
       "<table border=\"1\" class=\"dataframe\">\n",
       "  <thead>\n",
       "    <tr style=\"text-align: right;\">\n",
       "      <th></th>\n",
       "      <th>seq_id</th>\n",
       "      <th>protein_sequence</th>\n",
       "      <th>pH</th>\n",
       "      <th>data_source</th>\n",
       "      <th>tm</th>\n",
       "    </tr>\n",
       "    <tr>\n",
       "      <th>seq_id</th>\n",
       "      <th></th>\n",
       "      <th></th>\n",
       "      <th></th>\n",
       "      <th></th>\n",
       "      <th></th>\n",
       "    </tr>\n",
       "  </thead>\n",
       "  <tbody>\n",
       "    <tr>\n",
       "      <th>6022</th>\n",
       "      <td>6022</td>\n",
       "      <td>MARRPRHSIYSSDEDDEDIEMCDHDYDGLLPKSGKRHLGKTRWTRE...</td>\n",
       "      <td>7.5</td>\n",
       "      <td>10.1006/jmbi.1999.3099</td>\n",
       "      <td>2.8</td>\n",
       "    </tr>\n",
       "    <tr>\n",
       "      <th>9854</th>\n",
       "      <td>9854</td>\n",
       "      <td>MERYENLFAQLNDRREGAFVPFVTLGDPGIEQSLKIIDTLIDAGAD...</td>\n",
       "      <td>7.8</td>\n",
       "      <td>NaN</td>\n",
       "      <td>4.0</td>\n",
       "    </tr>\n",
       "    <tr>\n",
       "      <th>13447</th>\n",
       "      <td>13447</td>\n",
       "      <td>MKALIVLGLVLLSVTVQGKVFERCELARTLKRLGMDGYRGISLANW...</td>\n",
       "      <td>64.9</td>\n",
       "      <td>NaN</td>\n",
       "      <td>0.2</td>\n",
       "    </tr>\n",
       "    <tr>\n",
       "      <th>13449</th>\n",
       "      <td>13449</td>\n",
       "      <td>MKALIVLGLVLLSVTVQGKVFERCELARTLKRLGMDGYRGISLANW...</td>\n",
       "      <td>64.9</td>\n",
       "      <td>NaN</td>\n",
       "      <td>0.1</td>\n",
       "    </tr>\n",
       "    <tr>\n",
       "      <th>14640</th>\n",
       "      <td>14640</td>\n",
       "      <td>MKMSRLCLSVALLVLLGTLAASTPGCDTSNQAKAQRPDFCLEPPYT...</td>\n",
       "      <td>39.0</td>\n",
       "      <td>NaN</td>\n",
       "      <td>0.0</td>\n",
       "    </tr>\n",
       "    <tr>\n",
       "      <th>18007</th>\n",
       "      <td>18007</td>\n",
       "      <td>MMYSKLLTLTTLLLPTALALPSLVERACDYTCGSNCYSSSDVSTAQ...</td>\n",
       "      <td>4.8</td>\n",
       "      <td>NaN</td>\n",
       "      <td>0.0</td>\n",
       "    </tr>\n",
       "    <tr>\n",
       "      <th>18008</th>\n",
       "      <td>18008</td>\n",
       "      <td>MMYSKLLTLTTLLLPTALALPSLVERACDYTCGSNCYSSSDVSTAQ...</td>\n",
       "      <td>4.8</td>\n",
       "      <td>NaN</td>\n",
       "      <td>0.0</td>\n",
       "    </tr>\n",
       "    <tr>\n",
       "      <th>18010</th>\n",
       "      <td>18010</td>\n",
       "      <td>MMYSKLLTLTTLLLPTALALPSLVERACDYTCGSNCYSSSDVSTAQ...</td>\n",
       "      <td>4.8</td>\n",
       "      <td>NaN</td>\n",
       "      <td>0.0</td>\n",
       "    </tr>\n",
       "    <tr>\n",
       "      <th>18856</th>\n",
       "      <td>18856</td>\n",
       "      <td>MNIFEMLRIDERLRLKIYKDTEGYYTIGIGHLLTKSPSLNAAKSEL...</td>\n",
       "      <td>2.2</td>\n",
       "      <td>NaN</td>\n",
       "      <td>-1.0</td>\n",
       "    </tr>\n",
       "    <tr>\n",
       "      <th>22116</th>\n",
       "      <td>22116</td>\n",
       "      <td>MRNTGAGPSPSVSRPPPSAAPLSGAALAAPGDAPSALYAPSALVLT...</td>\n",
       "      <td>53.4</td>\n",
       "      <td>NaN</td>\n",
       "      <td>0.1</td>\n",
       "    </tr>\n",
       "  </tbody>\n",
       "</table>\n",
       "</div>"
      ],
      "text/plain": [
       "        seq_id                                   protein_sequence    pH  \\\n",
       "seq_id                                                                    \n",
       "6022      6022  MARRPRHSIYSSDEDDEDIEMCDHDYDGLLPKSGKRHLGKTRWTRE...   7.5   \n",
       "9854      9854  MERYENLFAQLNDRREGAFVPFVTLGDPGIEQSLKIIDTLIDAGAD...   7.8   \n",
       "13447    13447  MKALIVLGLVLLSVTVQGKVFERCELARTLKRLGMDGYRGISLANW...  64.9   \n",
       "13449    13449  MKALIVLGLVLLSVTVQGKVFERCELARTLKRLGMDGYRGISLANW...  64.9   \n",
       "14640    14640  MKMSRLCLSVALLVLLGTLAASTPGCDTSNQAKAQRPDFCLEPPYT...  39.0   \n",
       "18007    18007  MMYSKLLTLTTLLLPTALALPSLVERACDYTCGSNCYSSSDVSTAQ...   4.8   \n",
       "18008    18008  MMYSKLLTLTTLLLPTALALPSLVERACDYTCGSNCYSSSDVSTAQ...   4.8   \n",
       "18010    18010  MMYSKLLTLTTLLLPTALALPSLVERACDYTCGSNCYSSSDVSTAQ...   4.8   \n",
       "18856    18856  MNIFEMLRIDERLRLKIYKDTEGYYTIGIGHLLTKSPSLNAAKSEL...   2.2   \n",
       "22116    22116  MRNTGAGPSPSVSRPPPSAAPLSGAALAAPGDAPSALYAPSALVLT...  53.4   \n",
       "\n",
       "                   data_source   tm  \n",
       "seq_id                               \n",
       "6022    10.1006/jmbi.1999.3099  2.8  \n",
       "9854                       NaN  4.0  \n",
       "13447                      NaN  0.2  \n",
       "13449                      NaN  0.1  \n",
       "14640                      NaN  0.0  \n",
       "18007                      NaN  0.0  \n",
       "18008                      NaN  0.0  \n",
       "18010                      NaN  0.0  \n",
       "18856                      NaN -1.0  \n",
       "22116                      NaN  0.1  "
      ]
     },
     "execution_count": 5,
     "metadata": {},
     "output_type": "execute_result"
    }
   ],
   "source": [
    "low_tm = df[df['tm'] < 5]\n",
    "low_tm.head(10)"
   ]
  },
  {
   "cell_type": "markdown",
   "id": "66ca05e4",
   "metadata": {
    "papermill": {
     "duration": 0.005587,
     "end_time": "2022-11-19T21:11:47.531437",
     "exception": false,
     "start_time": "2022-11-19T21:11:47.525850",
     "status": "completed"
    },
    "tags": []
   },
   "source": [
    "## 3) No-source data has significantly different distribution compare to the rest \n",
    "To do this analysis, I removed pH=7 data from both dataframes, since both of them have mostly pH=7 rows and it prevents doing analysis on the rest. I also removed ph>14 from no-source data, since those rows are already invalid.\n",
    "Below we can see that most of the ph!=7 data has tm around 60 and there is a gaussian-like distribution. For no-source data, most of the tm is around 25 without any proper looking distribution."
   ]
  },
  {
   "cell_type": "code",
   "execution_count": 6,
   "id": "4793429f",
   "metadata": {
    "execution": {
     "iopub.execute_input": "2022-11-19T21:11:47.544920Z",
     "iopub.status.busy": "2022-11-19T21:11:47.544493Z",
     "iopub.status.idle": "2022-11-19T21:11:48.785104Z",
     "shell.execute_reply": "2022-11-19T21:11:48.784031Z"
    },
    "papermill": {
     "duration": 1.250269,
     "end_time": "2022-11-19T21:11:48.787510",
     "exception": false,
     "start_time": "2022-11-19T21:11:47.537241",
     "status": "completed"
    },
    "tags": []
   },
   "outputs": [
    {
     "data": {
      "text/plain": [
       "array([[<AxesSubplot:title={'center':'seq_id'}>,\n",
       "        <AxesSubplot:title={'center':'pH'}>],\n",
       "       [<AxesSubplot:title={'center':'tm'}>, <AxesSubplot:>]],\n",
       "      dtype=object)"
      ]
     },
     "metadata": {},
     "output_type": "display_data"
    },
    {
     "data": {
      "text/plain": [
       "array([[<AxesSubplot:title={'center':'seq_id'}>,\n",
       "        <AxesSubplot:title={'center':'pH'}>],\n",
       "       [<AxesSubplot:title={'center':'tm'}>, <AxesSubplot:>]],\n",
       "      dtype=object)"
      ]
     },
     "metadata": {},
     "output_type": "display_data"
    },
    {
     "data": {
      "image/png": "[encoded data removed]",
      "text/plain": [
       "<Figure size 432x288 with 4 Axes>"
      ]
     },
     "metadata": {
      "needs_background": "light"
     },
     "output_type": "display_data"
    },
    {
     "data": {
      "image/png": "[encoded data removed]",
      "text/plain": [
       "<Figure size 432x288 with 4 Axes>"
      ]
     },
     "metadata": {
      "needs_background": "light"
     },
     "output_type": "display_data"
    }
   ],
   "source": [
    "df_from_reliable_sources_wo_ph_7 = df_from_reliable_sources.drop(df_from_reliable_sources[df_from_reliable_sources.pH == 7].index)\n",
    "display(df_from_reliable_sources_wo_ph_7.hist(bins = 30))\n",
    "\n",
    "df_without_source_wo_extreme_pH = df_without_source.drop(df_without_source[df_without_source.pH > 14].index)\n",
    "df_without_source_wo_extreme_pH_wo_7 = df_without_source_wo_extreme_pH.drop(df_without_source_wo_extreme_pH[df_without_source_wo_extreme_pH.pH == 7].index)\n",
    "display(df_without_source_wo_extreme_pH_wo_7.hist(bins = 30))"
   ]
  },
  {
   "cell_type": "markdown",
   "id": "d926724f",
   "metadata": {
    "papermill": {
     "duration": 0.006012,
     "end_time": "2022-11-19T21:11:48.799984",
     "exception": false,
     "start_time": "2022-11-19T21:11:48.793972",
     "status": "completed"
    },
    "tags": []
   },
   "source": [
    "# Competition data update"
   ]
  },
  {
   "cell_type": "markdown",
   "id": "9d3d4f69",
   "metadata": {
    "papermill": {
     "duration": 0.006017,
     "end_time": "2022-11-19T21:11:48.812226",
     "exception": false,
     "start_time": "2022-11-19T21:11:48.806209",
     "status": "completed"
    },
    "tags": []
   },
   "source": [
    "In the previous section, I found some weird abnormal attributes of no-source data. Now I will briefly check how much of that data is changed by the data update provided by competition.\n",
    "First graph shows the similarity of sequnce id distributions of no-source data and the data update. Later, we see that among 2434 data rows that are updated, 2392 of them were part of no-source data that we evaluated in previous section (in line with what was announced by competition). However, there still remains some no-source data that is not changed and the reliability of that shall also be evaluated (not a part of this notebook)."
   ]
  },
  {
   "cell_type": "code",
   "execution_count": 7,
   "id": "8807a6d0",
   "metadata": {
    "execution": {
     "iopub.execute_input": "2022-11-19T21:11:48.826464Z",
     "iopub.status.busy": "2022-11-19T21:11:48.826085Z",
     "iopub.status.idle": "2022-11-19T21:11:49.114036Z",
     "shell.execute_reply": "2022-11-19T21:11:49.112770Z"
    },
    "papermill": {
     "duration": 0.297927,
     "end_time": "2022-11-19T21:11:49.116468",
     "exception": false,
     "start_time": "2022-11-19T21:11:48.818541",
     "status": "completed"
    },
    "tags": []
   },
   "outputs": [
    {
     "data": {
      "text/plain": [
       "<AxesSubplot:>"
      ]
     },
     "metadata": {},
     "output_type": "display_data"
    },
    {
     "data": {
      "text/plain": [
       "<AxesSubplot:>"
      ]
     },
     "metadata": {},
     "output_type": "display_data"
    },
    {
     "data": {
      "image/png": "[encoded data removed]",
      "text/plain": [
       "<Figure size 432x288 with 1 Axes>"
      ]
     },
     "metadata": {
      "needs_background": "light"
     },
     "output_type": "display_data"
    }
   ],
   "source": [
    "display(df_without_source.seq_id.hist(bins = 30))\n",
    "\n",
    "train_file_path_update = '/kaggle/input/novozymes-enzyme-stability-prediction/train_updates_20220929.csv'\n",
    "df_update = pd.read_csv(train_file_path_update)\n",
    "df_update = df_update.set_index('seq_id', drop=False)\n",
    "\n",
    "display(df_update.seq_id.hist(bins = 30))"
   ]
  },
  {
   "cell_type": "code",
   "execution_count": 8,
   "id": "01ae8f4c",
   "metadata": {
    "execution": {
     "iopub.execute_input": "2022-11-19T21:11:49.132023Z",
     "iopub.status.busy": "2022-11-19T21:11:49.131616Z",
     "iopub.status.idle": "2022-11-19T21:11:49.159211Z",
     "shell.execute_reply": "2022-11-19T21:11:49.158104Z"
    },
    "papermill": {
     "duration": 0.038202,
     "end_time": "2022-11-19T21:11:49.161558",
     "exception": false,
     "start_time": "2022-11-19T21:11:49.123356",
     "status": "completed"
    },
    "tags": []
   },
   "outputs": [
    {
     "name": "stdout",
     "output_type": "stream",
     "text": [
      "<class 'pandas.core.frame.DataFrame'>\n",
      "Int64Index: 2434 entries, 69 to 30742\n",
      "Data columns (total 5 columns):\n",
      " #   Column            Non-Null Count  Dtype  \n",
      "---  ------            --------------  -----  \n",
      " 0   seq_id            2434 non-null   int64  \n",
      " 1   protein_sequence  25 non-null     object \n",
      " 2   pH                25 non-null     float64\n",
      " 3   data_source       0 non-null      float64\n",
      " 4   tm                25 non-null     float64\n",
      "dtypes: float64(3), int64(1), object(1)\n",
      "memory usage: 114.1+ KB\n"
     ]
    },
    {
     "data": {
      "text/plain": [
       "None"
      ]
     },
     "metadata": {},
     "output_type": "display_data"
    },
    {
     "name": "stdout",
     "output_type": "stream",
     "text": [
      "<class 'pandas.core.frame.DataFrame'>\n",
      "Int64Index: 3347 entries, 69 to 30742\n",
      "Data columns (total 5 columns):\n",
      " #   Column            Non-Null Count  Dtype  \n",
      "---  ------            --------------  -----  \n",
      " 0   seq_id            3347 non-null   int64  \n",
      " 1   protein_sequence  3347 non-null   object \n",
      " 2   pH                3335 non-null   float64\n",
      " 3   data_source       0 non-null      object \n",
      " 4   tm                3347 non-null   float64\n",
      "dtypes: float64(2), int64(1), object(2)\n",
      "memory usage: 285.9+ KB\n"
     ]
    },
    {
     "data": {
      "text/plain": [
       "None"
      ]
     },
     "metadata": {},
     "output_type": "display_data"
    }
   ],
   "source": [
    "display(df_update.info())\n",
    "display(df_without_source.info())"
   ]
  },
  {
   "cell_type": "code",
   "execution_count": 9,
   "id": "7c72161c",
   "metadata": {
    "execution": {
     "iopub.execute_input": "2022-11-19T21:11:49.178717Z",
     "iopub.status.busy": "2022-11-19T21:11:49.177968Z",
     "iopub.status.idle": "2022-11-19T21:11:49.186593Z",
     "shell.execute_reply": "2022-11-19T21:11:49.185674Z"
    },
    "papermill": {
     "duration": 0.019214,
     "end_time": "2022-11-19T21:11:49.188717",
     "exception": false,
     "start_time": "2022-11-19T21:11:49.169503",
     "status": "completed"
    },
    "tags": []
   },
   "outputs": [
    {
     "data": {
      "text/plain": [
       "True     2392\n",
       "False      42\n",
       "Name: seq_id, dtype: int64"
      ]
     },
     "execution_count": 9,
     "metadata": {},
     "output_type": "execute_result"
    }
   ],
   "source": [
    "df_update.seq_id.isin(df_without_source.seq_id).value_counts()"
   ]
  },
  {
   "cell_type": "markdown",
   "id": "c21b9ea7",
   "metadata": {
    "papermill": {
     "duration": 0.007139,
     "end_time": "2022-11-19T21:11:49.203302",
     "exception": false,
     "start_time": "2022-11-19T21:11:49.196163",
     "status": "completed"
    },
    "tags": []
   },
   "source": [
    "# Conclusion"
   ]
  },
  {
   "cell_type": "markdown",
   "id": "dd4065b1",
   "metadata": {
    "papermill": {
     "duration": 0.007077,
     "end_time": "2022-11-19T21:11:49.217732",
     "exception": false,
     "start_time": "2022-11-19T21:11:49.210655",
     "status": "completed"
    },
    "tags": []
   },
   "source": [
    "This notebook analyzes the data update in the Novozymes Enzyme Stability Prediction competition and the underlying reasons. Some problems about the no-source data is pointed. Shortly, no-source data had some invalid pH values, too many edge cases, and significantly different distribution compare to the rest of the data. Of course, it can still be argued that these different distributions and edge cases provide a more in depth understanding of possible edge case scenarios. However, if the data does not have a source(unlike others) and if it behaves significantly different than the rest, it will always stay suspicious. So in the end, most of it is removed from the competition.\n",
    "\n",
    "This was interesting for me to check since it is my first competition. Hope you find it useful. Thanks for reading."
   ]
  }
 ],
 "metadata": {
  "kernelspec": {
   "display_name": "Python 3",
   "language": "python",
   "name": "python3"
  },
  "language_info": {
   "codemirror_mode": {
    "name": "ipython",
    "version": 3
   },
   "file_extension": ".py",
   "mimetype": "text/x-python",
   "name": "python",
   "nbconvert_exporter": "python",
   "pygments_lexer": "ipython3",
   "version": "3.7.12"
  },
  "papermill": {
   "default_parameters": {},
   "duration": 11.043969,
   "end_time": "2022-11-19T21:11:49.845941",
   "environment_variables": {},
   "exception": null,
   "input_path": "__notebook__.ipynb",
   "output_path": "__notebook__.ipynb",
   "parameters": {},
   "start_time": "2022-11-19T21:11:38.801972",
   "version": "2.3.4"
  }
 },
 "nbformat": 4,
 "nbformat_minor": 5
}
